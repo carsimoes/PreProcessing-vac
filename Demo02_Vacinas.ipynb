{
  "nbformat": 4,
  "nbformat_minor": 0,
  "metadata": {
    "colab": {
      "name": "[PUCRS] Demo02: Vacinas.ipynb",
      "provenance": [],
      "collapsed_sections": []
    },
    "kernelspec": {
      "name": "python3",
      "display_name": "Python 3"
    }
  },
  "cells": [
    {
      "cell_type": "code",
      "metadata": {
        "id": "see35QqZc8u3"
      },
      "source": [
        "import pandas as pd\n",
        "import numpy as np\n",
        "import matplotlib.pyplot as plt\n",
        "import seaborn as sns\n",
        "import altair as alt"
      ],
      "execution_count": null,
      "outputs": []
    },
    {
      "cell_type": "markdown",
      "metadata": {
        "id": "dRZK6kDNmfoB"
      },
      "source": [
        "Atualize o Ploty e reinicie o kernel"
      ]
    },
    {
      "cell_type": "code",
      "metadata": {
        "id": "9prkZC6vmj58"
      },
      "source": [
        "!pip install -U plotly"
      ],
      "execution_count": null,
      "outputs": []
    },
    {
      "cell_type": "code",
      "metadata": {
        "id": "awmtLAeddBMj"
      },
      "source": [
        "excel_incidence = pd.read_excel('http://bit.ly/ds_vacina_incidence', sheet_name=None)"
      ],
      "execution_count": null,
      "outputs": []
    },
    {
      "cell_type": "code",
      "metadata": {
        "id": "iXLmtNQOdeuR"
      },
      "source": [
        "excel_incidence.keys()"
      ],
      "execution_count": null,
      "outputs": []
    },
    {
      "cell_type": "code",
      "metadata": {
        "id": "3_IH0xHMd37A"
      },
      "source": [
        "sheets= ['CRS', 'Diphtheria', 'JapEnc', 'Measles', 'Mumps', 'Ntetanus', 'Pertussis', 'Polio', 'Rubella', 'Ttetanus', 'Yfever']"
      ],
      "execution_count": null,
      "outputs": []
    },
    {
      "cell_type": "markdown",
      "metadata": {
        "id": "n4Bnn8s9d_eH"
      },
      "source": [
        "Concatenando várias abas do excel em um único dataframe"
      ]
    },
    {
      "cell_type": "code",
      "metadata": {
        "id": "zoXm8pYPd9U8"
      },
      "source": [
        "df =pd.concat(pd.read_excel('http://bit.ly/ds_vacina_incidence', sheet_name=sheets), ignore_index=True)"
      ],
      "execution_count": null,
      "outputs": []
    },
    {
      "cell_type": "code",
      "metadata": {
        "id": "OfWzyHweeDK_"
      },
      "source": [
        "df.head()"
      ],
      "execution_count": null,
      "outputs": []
    },
    {
      "cell_type": "code",
      "metadata": {
        "id": "470RYaSVeHOr"
      },
      "source": [
        "import missingno as msno"
      ],
      "execution_count": null,
      "outputs": []
    },
    {
      "cell_type": "code",
      "metadata": {
        "id": "y7ssAzYseQEO"
      },
      "source": [
        "msno.matrix(df)"
      ],
      "execution_count": null,
      "outputs": []
    },
    {
      "cell_type": "code",
      "metadata": {
        "id": "pxsi0OdseRVj"
      },
      "source": [
        "df['Disease'].value_counts()"
      ],
      "execution_count": null,
      "outputs": []
    },
    {
      "cell_type": "code",
      "metadata": {
        "id": "9bdj0phAefFZ"
      },
      "source": [
        "df['ISO_code'].nunique()"
      ],
      "execution_count": null,
      "outputs": []
    },
    {
      "cell_type": "code",
      "metadata": {
        "id": "XrqltocrejIY"
      },
      "source": [
        "df[df['Disease'] == 'measles']"
      ],
      "execution_count": null,
      "outputs": []
    },
    {
      "cell_type": "code",
      "metadata": {
        "id": "gAT93-nreofg"
      },
      "source": [
        "sarampo = df[df['Disease'] == 'measles']"
      ],
      "execution_count": null,
      "outputs": []
    },
    {
      "cell_type": "code",
      "metadata": {
        "id": "o4d_91lvesyb"
      },
      "source": [
        "sarampo.describe()"
      ],
      "execution_count": null,
      "outputs": []
    },
    {
      "cell_type": "markdown",
      "metadata": {
        "id": "gqVB1dNGe88X"
      },
      "source": [
        "# Tidy Data\n",
        "\n",
        "Este padrão é simples, basta atender a três regras fundamentais:\n",
        "\n",
        "- Cada variável é uma coluna\n",
        "- Cada observação é uma linha\n",
        "- Cada tipo de unidade observacional é uma tabela"
      ]
    },
    {
      "cell_type": "code",
      "metadata": {
        "id": "4GNE5VLMeu2Y"
      },
      "source": [
        "sarampo_tidy = pd.melt(sarampo,\n",
        "                       id_vars=['WHO_REGION', 'ISO_code', 'Cname', 'Disease'],\n",
        "                       var_name='Ano',\n",
        "                       value_name='Qtd')"
      ],
      "execution_count": null,
      "outputs": []
    },
    {
      "cell_type": "code",
      "metadata": {
        "id": "0bGhAOKlff2Y"
      },
      "source": [
        "sarampo_tidy"
      ],
      "execution_count": null,
      "outputs": []
    },
    {
      "cell_type": "code",
      "metadata": {
        "id": "His1OO_efgu-"
      },
      "source": [
        "total_sarampo = sarampo_tidy.groupby('Ano').sum()"
      ],
      "execution_count": null,
      "outputs": []
    },
    {
      "cell_type": "code",
      "metadata": {
        "id": "_gcYcNA6fx9e"
      },
      "source": [
        "total_sarampo"
      ],
      "execution_count": null,
      "outputs": []
    },
    {
      "cell_type": "code",
      "metadata": {
        "id": "LEQJzO8Jfyyq"
      },
      "source": [
        "total_sarampo = total_sarampo.reset_index()"
      ],
      "execution_count": null,
      "outputs": []
    },
    {
      "cell_type": "code",
      "metadata": {
        "id": "0x3zto22f6aK"
      },
      "source": [
        "total_sarampo.head()"
      ],
      "execution_count": null,
      "outputs": []
    },
    {
      "cell_type": "code",
      "metadata": {
        "id": "Y2fcfsiuf-IG"
      },
      "source": [
        "alt.Chart(total_sarampo).mark_circle(color='rebeccapurple').encode(\n",
        "    x = 'Ano',\n",
        "    y = 'Qtd',\n",
        "    size = 'Qtd:Q'\n",
        ")"
      ],
      "execution_count": null,
      "outputs": []
    },
    {
      "cell_type": "code",
      "metadata": {
        "id": "fFBQMbNNgHxL"
      },
      "source": [
        "todas_tidy =  pd.melt(df,\n",
        "                       [\"WHO_REGION\", \"ISO_code\", \"Cname\", \"Disease\"],\n",
        "                       var_name=\"Ano\",\n",
        "                       value_name=\"Qtd\")"
      ],
      "execution_count": null,
      "outputs": []
    },
    {
      "cell_type": "code",
      "metadata": {
        "id": "jNKbBed0gNFP"
      },
      "source": [
        "todas_tidy.head()"
      ],
      "execution_count": null,
      "outputs": []
    },
    {
      "cell_type": "code",
      "metadata": {
        "id": "H2TBF4yMgTTs"
      },
      "source": [
        "totais_ano = todas_tidy.groupby(['Disease', 'Ano']).agg({'Qtd':'sum'})"
      ],
      "execution_count": null,
      "outputs": []
    },
    {
      "cell_type": "code",
      "metadata": {
        "id": "By4MKAq8gZC9"
      },
      "source": [
        "totais_ano"
      ],
      "execution_count": null,
      "outputs": []
    },
    {
      "cell_type": "code",
      "metadata": {
        "id": "YKqh1wCwgaCd"
      },
      "source": [
        "totais_ano = totais_ano.reset_index()"
      ],
      "execution_count": null,
      "outputs": []
    },
    {
      "cell_type": "code",
      "metadata": {
        "id": "usqbs91Bgdg3"
      },
      "source": [
        "totais_ano"
      ],
      "execution_count": null,
      "outputs": []
    },
    {
      "cell_type": "code",
      "metadata": {
        "id": "yrzTZgv_gePg"
      },
      "source": [
        "alt.Chart(totais_ano.reset_index()) \\\n",
        "        .mark_circle().encode(y='Ano', \n",
        "                              x = 'Disease:N',                                                                                                                                                          \n",
        "                              tooltip=['Disease', 'Qtd', 'Ano'],\n",
        "                              size=alt.Size(\"Qtd:Q\", scale=alt.Scale(range=[5, 8000]), legend=None),\n",
        "                              color=alt.Color('Disease')) \\\n",
        "        .configure_mark(opacity=0.5) \\\n",
        "        .properties(width=600) \\\n",
        "        .interactive()\n",
        "\n",
        "\n"
      ],
      "execution_count": null,
      "outputs": []
    },
    {
      "cell_type": "code",
      "metadata": {
        "id": "PN2sOKvgggKk"
      },
      "source": [
        "mumps = df[df['Disease'] == 'Mumps']"
      ],
      "execution_count": null,
      "outputs": []
    },
    {
      "cell_type": "code",
      "metadata": {
        "id": "URtEYn_Jg8DF"
      },
      "source": [
        "mumps_tidy = pd.melt(mumps,\n",
        "                       id_vars=['WHO_REGION', 'ISO_code', 'Cname', 'Disease'],\n",
        "                       var_name='Ano',\n",
        "                       value_name='Qtd')"
      ],
      "execution_count": null,
      "outputs": []
    },
    {
      "cell_type": "code",
      "metadata": {
        "id": "_DwcEpkthKL_"
      },
      "source": [
        "mumps_region = mumps_tidy.groupby(['WHO_REGION', 'Ano']).agg({'Qtd': 'sum'})"
      ],
      "execution_count": null,
      "outputs": []
    },
    {
      "cell_type": "code",
      "metadata": {
        "id": "KasP4hi9hNPP"
      },
      "source": [
        "mumps_region"
      ],
      "execution_count": null,
      "outputs": []
    },
    {
      "cell_type": "code",
      "metadata": {
        "id": "ZGHe8vDAhhZ7"
      },
      "source": [
        "mumps_region = mumps_region.reset_index()"
      ],
      "execution_count": null,
      "outputs": []
    },
    {
      "cell_type": "code",
      "metadata": {
        "id": "ujGRrejZhjdL"
      },
      "source": [
        "alt.Chart(mumps_region).mark_circle().encode(\n",
        "    x = 'Ano',\n",
        "    y = 'Qtd',\n",
        "    size = 'Qtd:Q',\n",
        "    color = 'WHO_REGION',\n",
        "    tooltip=['Qtd:Q']\n",
        ")"
      ],
      "execution_count": null,
      "outputs": []
    },
    {
      "cell_type": "code",
      "metadata": {
        "id": "nkm7m-VqiSpz"
      },
      "source": [
        "df[df['WHO_REGION'] == 'WPR']['Cname'].value_counts"
      ],
      "execution_count": null,
      "outputs": []
    },
    {
      "cell_type": "markdown",
      "metadata": {
        "id": "lMXqxeuBmdNZ"
      },
      "source": [
        ""
      ]
    },
    {
      "cell_type": "code",
      "metadata": {
        "id": "prk8FY3UjLfg"
      },
      "source": [
        "import plotly.express as px\n",
        "import plotly"
      ],
      "execution_count": null,
      "outputs": []
    },
    {
      "cell_type": "code",
      "metadata": {
        "id": "QMt_-l3Mjiqn"
      },
      "source": [
        "mumps_tidy"
      ],
      "execution_count": null,
      "outputs": []
    },
    {
      "cell_type": "code",
      "metadata": {
        "id": "IcXvnMkwjnPz"
      },
      "source": [
        "fig = px.treemap(mumps_tidy[mumps_tidy['WHO_REGION']=='WPR'], path=['Cname'], values='Qtd')\n",
        "fig.show()\n"
      ],
      "execution_count": null,
      "outputs": []
    },
    {
      "cell_type": "code",
      "metadata": {
        "id": "8dUU6sczj17L"
      },
      "source": [
        "mumps_tidy[mumps_tidy['Cname']=='Japan'].groupby(['Ano', 'Cname']).agg({'Qtd':'sum'})"
      ],
      "execution_count": null,
      "outputs": []
    },
    {
      "cell_type": "code",
      "metadata": {
        "id": "H_0S_z3mlO5D"
      },
      "source": [
        "mumps_tidy[mumps_tidy['Cname']=='China'].groupby(['Ano', 'Cname']).agg({'Qtd':'sum'})"
      ],
      "execution_count": null,
      "outputs": []
    },
    {
      "cell_type": "code",
      "metadata": {
        "id": "eF7EYSfJl8E5"
      },
      "source": [
        ""
      ],
      "execution_count": null,
      "outputs": []
    }
  ]
}